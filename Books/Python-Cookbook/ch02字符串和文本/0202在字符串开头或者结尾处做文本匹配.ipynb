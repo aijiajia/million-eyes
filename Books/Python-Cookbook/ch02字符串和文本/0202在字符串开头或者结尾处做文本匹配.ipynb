{
 "cells": [
  {
   "cell_type": "code",
   "execution_count": null,
   "metadata": {
    "collapsed": true
   },
   "outputs": [],
   "source": [
    "# 问题：我们需要在字符串开头或者结尾处按照指定的文本模式做检查，例如检查文件的扩展名，URL协议类型等。\n",
    "# 解决方案：str.startwith() str.endswith()\n"
   ]
  }
 ],
 "metadata": {
  "kernelspec": {
   "display_name": "Python 2",
   "language": "python",
   "name": "python2"
  },
  "language_info": {
   "codemirror_mode": {
    "name": "ipython",
    "version": 2.0
   },
   "file_extension": ".py",
   "mimetype": "text/x-python",
   "name": "python",
   "nbconvert_exporter": "python",
   "pygments_lexer": "ipython2",
   "version": "2.7.6"
  }
 },
 "nbformat": 4,
 "nbformat_minor": 0
}