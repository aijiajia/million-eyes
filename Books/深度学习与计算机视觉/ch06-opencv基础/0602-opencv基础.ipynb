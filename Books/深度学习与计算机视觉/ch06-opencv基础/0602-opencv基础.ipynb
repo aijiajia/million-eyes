{
 "cells": [
  {
   "cell_type": "code",
   "execution_count": 24,
   "metadata": {
    "collapsed": true
   },
   "outputs": [
    {
     "name": "stdout",
     "output_type": "stream",
     "text": [
      "[[[255   0   0]\n  [  0 255   0]\n  [  0   0 255]]\n\n [[255 255   0]\n  [255   0 255]\n  [  0 255 255]]\n\n [[255 255 255]\n  [128 128 128]\n  [  0   0   0]]]\n"
     ]
    },
    {
     "data": {
      "image/png": "[encoded data removed]",
      "text/plain": [
       "<matplotlib.figure.Figure at 0x1219bd550>"
      ]
     },
     "metadata": {},
     "output_type": "display_data"
    }
   ],
   "source": [
    "import numpy as np\n",
    "import cv2\n",
    "import matplotlib.pyplot as plt\n",
    "\n",
    "img = np.array([[[255, 0, 0], [0, 255, 0], [0, 0, 255]],\n",
    "                [[255, 255, 0], [255, 0, 255], [0, 255, 255]],\n",
    "                [[255, 255, 255], [128, 128, 128], [0, 0, 0]]], dtype=np.uint8)\n",
    "print(img)\n",
    "plt.imshow(img)\n",
    "\n",
    "# 两种存储方式的图片不相同。cv2的写入会发生变化。？？据说是bug，改成tif格式,有提升单还是不完全一样。\n",
    "# plt.imsave('Books/深度学习与计算机视觉/ch06-opencv基础/plt.jpg', img)\n",
    "cv2.imwrite('Books/深度学习与计算机视觉/ch06-opencv基础/cv2.bmp', img)\n",
    "plt.show()\n"
   ]
  },
  {
   "cell_type": "code",
   "execution_count": 21,
   "metadata": {},
   "outputs": [
    {
     "name": "stdout",
     "output_type": "stream",
     "text": [
      "[[[  0   0 255]\n  [  0 255   0]\n  [255   0   0]]\n\n [[  0 255 255]\n  [255   0 255]\n  [255 255   0]]\n\n [[255 255 255]\n  [128 128 128]\n  [  0   0   0]]]\n"
     ]
    }
   ],
   "source": [
    "# 存取图像\n",
    "import cv2\n",
    "color_img = cv2.imread('Books/深度学习与计算机视觉/ch06-opencv基础/plt.jpg')\n",
    "print(color_img)"
   ]
  },
  {
   "cell_type": "code",
   "execution_count": 22,
   "metadata": {},
   "outputs": [
    {
     "name": "stdout",
     "output_type": "stream",
     "text": [
      "[[ 30 148  76]\n [176 109 227]\n [255 130   0]]\n(3, 3)\n"
     ]
    },
    {
     "data": {
      "image/png": "[encoded data removed]",
      "text/plain": [
       "<matplotlib.figure.Figure at 0x12188cc50>"
      ]
     },
     "metadata": {},
     "output_type": "display_data"
    }
   ],
   "source": [
    "# 直接读取单通道\n",
    "color_img2 = cv2.imread('Books/深度学习与计算机视觉/ch06-opencv基础/cv2.jpg', cv2.IMREAD_GRAYSCALE)\n",
    "print(color_img2)\n",
    "print(color_img2.shape)\n",
    "plt.imshow(color_img2)\n",
    "plt.show()"
   ]
  },
  {
   "cell_type": "code",
   "execution_count": null,
   "metadata": {},
   "outputs": [],
   "source": []
  }
 ],
 "metadata": {
  "kernelspec": {
   "display_name": "Python 2",
   "language": "python",
   "name": "python2"
  },
  "language_info": {
   "codemirror_mode": {
    "name": "ipython",
    "version": 2
   },
   "file_extension": ".py",
   "mimetype": "text/x-python",
   "name": "python",
   "nbconvert_exporter": "python",
   "pygments_lexer": "ipython2",
   "version": "2.7.6"
  }
 },
 "nbformat": 4,
 "nbformat_minor": 0
}
