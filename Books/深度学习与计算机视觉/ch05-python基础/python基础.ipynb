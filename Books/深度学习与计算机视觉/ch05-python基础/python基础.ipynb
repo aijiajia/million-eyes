{
 "cells": [
  {
   "cell_type": "code",
   "execution_count": null,
   "metadata": {
    "collapsed": true
   },
   "outputs": [],
   "source": [
    "# 多进程（multiprocessing）\n",
    "# 多个文件并行处理\n",
    "from multiprocessing import Process  # , freeze_support\n",
    "\n",
    "def process_data(filelist):\n",
    "    for filepath in filelist:\n",
    "        print('Processing  {} ...'.format(filepath))\n",
    "if __name__ == '__main__':\n",
    "    # 如果在windows下，还要加上freeze_support()函数\n",
    "    # freeze_support()\n",
    "    n_total = len(filelist)\n",
    "    n_process = 32\n",
    "    # 每段子列表的平均长度\n",
    "    length = float(n_total) / float(n_process)\n",
    "    # 计算下标尽可能均匀地划分输入文件列表\n",
    "    indices = [int(round(i * length)) for i in range(n_process + 1)]\n",
    "\n",
    "    # 生成每个进程要处理的子文件列表\n",
    "    sublists = [full_list[indices[i]:[indices + 1]] for i in range(n_process)]\n",
    "    # 生成进程\n",
    "    process = [Process(target=process_data, args=(x,)) for x in sublists]\n",
    "    \n",
    "    # 并行处理\n",
    "    for p in processes:\n",
    "        p.start()\n",
    "    for p in processes:\n",
    "        p.join()\n",
    "\n"
   ]
  }
 ],
 "metadata": {
  "kernelspec": {
   "display_name": "Python 2",
   "language": "python",
   "name": "python2"
  },
  "language_info": {
   "codemirror_mode": {
    "name": "ipython",
    "version": 2
   },
   "file_extension": ".py",
   "mimetype": "text/x-python",
   "name": "python",
   "nbconvert_exporter": "python",
   "pygments_lexer": "ipython2",
   "version": "2.7.6"
  }
 },
 "nbformat": 4,
 "nbformat_minor": 0
}
