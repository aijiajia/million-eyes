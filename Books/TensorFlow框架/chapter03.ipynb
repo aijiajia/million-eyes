{
 "cells": [
  {
   "cell_type": "code",
   "execution_count": 2,
   "metadata": {
    "collapsed": true
   },
   "outputs": [],
   "source": [
    "import tensorflow as tf\n",
    "import matplotlib.pyplot as plt\n",
    "import numpy as np"
   ]
  },
  {
   "cell_type": "code",
   "execution_count": 3,
   "metadata": {},
   "outputs": [
    {
     "name": "stdout",
     "output_type": "stream",
     "text": [
      "Tensor(\"add:0\", shape=(2,), dtype=float32)\n[ 3.  5.]\n"
     ]
    }
   ],
   "source": [
    "# 3.1 计算图定义计算\n",
    "\n",
    "a = tf.constant([1.0, 2.0], name=\"a\")\n",
    "b = tf.constant([2.0, 3.0], name=\"b\")\n",
    "result = a + b\n",
    "print(result)\n",
    "\n",
    "# 3.2 张量\n",
    "# 三个属性： name, shape,type\n",
    "# 3.3 会话（运行模型）执行计算\n",
    "\n",
    "\n",
    "with tf.Session() as sess:\n",
    "    print(sess.run(result))\n"
   ]
  },
  {
   "cell_type": "code",
   "execution_count": 10,
   "metadata": {},
   "outputs": [
    {
     "name": "stdout",
     "output_type": "stream",
     "text": [
      "[ 0.1  0.1  0.1  0.1  0.1  0.1  0.1  0.1  0.1  0.1]\n8\n"
     ]
    }
   ],
   "source": [
    "# 3.4.3 神经网络参数与TensorFlow变量\n",
    "# #声明w1 w2 两个变量。这里还通过seed参数设定了随机种子\n",
    "# #这样可以保证每次运行得到结果是一样的\n",
    "# w1 2行3列\n",
    "w1 = tf.Variable(tf.random_normal([2, 3], stddev=1, seed=1))\n",
    "# w2 3行1列\n",
    "w2 = tf.Variable(tf.random_normal([3, 1], stddev=1, seed=1))\n",
    "# [注意]w3 1行 2列\n",
    "w3 = tf.Variable(tf.truncated_normal([2], stddev=0.1))\n",
    "# b2 一行10列\n",
    "b2 = tf.Variable(tf.constant(0.1, shape=[10]))\n",
    "\n",
    "# 暂时将输入定义一个常量。1*2 的矩阵\n",
    "\n",
    "x = tf.constant([[0.7,0.9]])\n",
    "\n",
    "# 计算神经网络的输出\n",
    "a = tf.matmul(x, w1)\n",
    "y = tf.matmul(a, w2)\n",
    "# page55\n",
    "with tf.Session() as sess:\n",
    "    init_op = tf.global_variables_initializer()\n",
    "    sess.run(init_op)\n",
    "    # print(sess.run(y))\n",
    "    # print(b2.eval())\n",
    "    # plt.plot(np.transpose(w3.eval()))\n",
    "    print(b2.eval())\n",
    "    # plt.show()"
   ]
  },
  {
   "cell_type": "code",
   "execution_count": null,
   "metadata": {},
   "outputs": [],
   "source": [
    ""
   ]
  }
 ],
 "metadata": {
  "kernelspec": {
   "display_name": "Python 2",
   "language": "python",
   "name": "python2"
  },
  "language_info": {
   "codemirror_mode": {
    "name": "ipython",
    "version": 2.0
   },
   "file_extension": ".py",
   "mimetype": "text/x-python",
   "name": "python",
   "nbconvert_exporter": "python",
   "pygments_lexer": "ipython2",
   "version": "2.7.6"
  }
 },
 "nbformat": 4,
 "nbformat_minor": 0
}